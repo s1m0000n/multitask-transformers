{
 "cells": [
  {
   "cell_type": "code",
   "execution_count": 1,
   "metadata": {
    "collapsed": true
   },
   "outputs": [],
   "source": [
    "import transformers\n",
    "from src.ru import rsg, mokoron\n",
    "import datasets\n",
    "from src.data import dict_map, unpack_splits, make_features\n",
    "from src.trf import MultitaskModel, MultitaskTrainer, NLPDataCollator, Task"
   ]
  },
  {
   "cell_type": "code",
   "execution_count": 2,
   "outputs": [
    {
     "name": "stderr",
     "output_type": "stream",
     "text": [
      "Reusing dataset russian_super_glue (/Users/s1m00n/.cache/huggingface/datasets/russian_super_glue/danetqa/0.0.1/6fcadbfc1d8f0298b2f01ff277093772efe9e1b98f3c0df8ab5f511b3b9e13c9)\n"
     ]
    },
    {
     "data": {
      "text/plain": "  0%|          | 0/3 [00:00<?, ?it/s]",
      "application/vnd.jupyter.widget-view+json": {
       "version_major": 2,
       "version_minor": 0,
       "model_id": "2e0b48d0a134444dae62482fed2cacaf"
      }
     },
     "metadata": {},
     "output_type": "display_data"
    },
    {
     "name": "stdout",
     "output_type": "stream",
     "text": [
      "map(preprocess_danetqa, danetqa):\n",
      "    map(preprocess_danetqa, danetqa[train])\n",
      "    map(preprocess_danetqa, danetqa[validation])\n",
      "    map(preprocess_danetqa, danetqa[test])\n"
     ]
    },
    {
     "name": "stderr",
     "output_type": "stream",
     "text": [
      "Reusing dataset russian_super_glue (/Users/s1m00n/.cache/huggingface/datasets/russian_super_glue/parus/0.0.1/6fcadbfc1d8f0298b2f01ff277093772efe9e1b98f3c0df8ab5f511b3b9e13c9)\n"
     ]
    },
    {
     "data": {
      "text/plain": "  0%|          | 0/3 [00:00<?, ?it/s]",
      "application/vnd.jupyter.widget-view+json": {
       "version_major": 2,
       "version_minor": 0,
       "model_id": "69dee9bbccae40f49b90c099eee4f1ce"
      }
     },
     "metadata": {},
     "output_type": "display_data"
    },
    {
     "name": "stdout",
     "output_type": "stream",
     "text": [
      "map(preprocess_parus, parus):\n",
      "    map(preprocess_parus, parus[train])\n",
      "    map(preprocess_parus, parus[validation])\n",
      "    map(preprocess_parus, parus[test])\n"
     ]
    }
   ],
   "source": [
    "base_model_name = \"DeepPavlov/rubert-base-cased\"\n",
    "tokenizer = transformers.AutoTokenizer.from_pretrained(base_model_name)\n",
    "conv_params = {\"pad_to_max_length\": True, \"max_length\": 512}\n",
    "path = \"russian_super_glue\"\n",
    "rsg_name = \"Russian SuperGLUE\"\n",
    "tasks = {\n",
    "    'danetqa': Task(\n",
    "        cls=transformers.AutoModelForSequenceClassification,\n",
    "        config=transformers.AutoConfig.from_pretrained(base_model_name, num_labels = 2),\n",
    "        data=dict_map(datasets.load_dataset(path, \"danetqa\"), rsg.preprocess_danetqa, name=\"danetqa\"),\n",
    "        converter_to_features=rsg.InputLabelConv(tokenizer, **conv_params),\n",
    "        name=f\"{rsg_name}: DaNetQA\"\n",
    "    ),\n",
    "    'mokoron': Task(\n",
    "        cls=transformers.AutoModelForSequenceClassification,\n",
    "        config=transformers.AutoConfig.from_pretrained(base_model_name, num_labels = 2),\n",
    "        data=mokoron.load(),\n",
    "        converter_to_features=rsg.InputLabelConv(tokenizer, **conv_params),\n",
    "        name=\"RuTwitter Sentiment\"\n",
    "    ),\n",
    "    'parus': Task(\n",
    "        cls=transformers.AutoModelForSequenceClassification,\n",
    "        config=transformers.AutoConfig.from_pretrained(base_model_name, num_labels = 2),\n",
    "        data=dict_map(datasets.load_dataset(path, \"parus\"), rsg.preprocess_parus, name=\"parus\"),\n",
    "        converter_to_features=rsg.InputLabelConv(tokenizer, **conv_params),\n",
    "        name=f\"{rsg_name}: PARus\"\n",
    "    )\n",
    "}"
   ],
   "metadata": {
    "collapsed": false,
    "pycharm": {
     "name": "#%%\n"
    }
   }
  },
  {
   "cell_type": "code",
   "execution_count": 3,
   "outputs": [
    {
     "data": {
      "text/plain": "  0%|          | 0/2 [00:00<?, ?ba/s]",
      "application/vnd.jupyter.widget-view+json": {
       "version_major": 2,
       "version_minor": 0,
       "model_id": "393dbda204ef41fcbb9e512ad5d3aef9"
      }
     },
     "metadata": {},
     "output_type": "display_data"
    },
    {
     "name": "stderr",
     "output_type": "stream",
     "text": [
      "Truncation was not explicitly activated but `max_length` is provided a specific value, please use `truncation=True` to explicitly truncate examples to max length. Defaulting to 'longest_first' truncation strategy. If you encode pairs of sequences (GLUE-style) with the tokenizer you can select this strategy more precisely by providing a specific strategy to `truncation`.\n",
      "/opt/homebrew/Caskroom/miniforge/base/envs/research/lib/python3.9/site-packages/transformers/tokenization_utils_base.py:2226: FutureWarning: The `pad_to_max_length` argument is deprecated and will be removed in a future version, use `padding=True` or `padding='longest'` to pad to the longest sequence in the batch, or use `padding='max_length'` to pad to a max length. In this case, you can give a specific length with `max_length` (e.g. `max_length=45`) or leave max_length to None to pad to the maximal input size of the model (e.g. 512 for Bert).\n",
      "  warnings.warn(\n"
     ]
    },
    {
     "data": {
      "text/plain": "  0%|          | 0/1 [00:00<?, ?ba/s]",
      "application/vnd.jupyter.widget-view+json": {
       "version_major": 2,
       "version_minor": 0,
       "model_id": "7aaa6ec2277e432ebcc1ad335bb2b4a7"
      }
     },
     "metadata": {},
     "output_type": "display_data"
    },
    {
     "data": {
      "text/plain": "  0%|          | 0/1 [00:00<?, ?ba/s]",
      "application/vnd.jupyter.widget-view+json": {
       "version_major": 2,
       "version_minor": 0,
       "model_id": "16a66a3c896b4332bf058bbd4d09d0cf"
      }
     },
     "metadata": {},
     "output_type": "display_data"
    },
    {
     "data": {
      "text/plain": "  0%|          | 0/182 [00:00<?, ?ba/s]",
      "application/vnd.jupyter.widget-view+json": {
       "version_major": 2,
       "version_minor": 0,
       "model_id": "edf92eb553994df986d869510a6b544d"
      }
     },
     "metadata": {},
     "output_type": "display_data"
    },
    {
     "data": {
      "text/plain": "  0%|          | 0/23 [00:00<?, ?ba/s]",
      "application/vnd.jupyter.widget-view+json": {
       "version_major": 2,
       "version_minor": 0,
       "model_id": "fd5551da6a744aa4bbd2813df042b535"
      }
     },
     "metadata": {},
     "output_type": "display_data"
    },
    {
     "data": {
      "text/plain": "  0%|          | 0/23 [00:00<?, ?ba/s]",
      "application/vnd.jupyter.widget-view+json": {
       "version_major": 2,
       "version_minor": 0,
       "model_id": "18998360d54d46778a7810ce0ef8ee3c"
      }
     },
     "metadata": {},
     "output_type": "display_data"
    },
    {
     "data": {
      "text/plain": "  0%|          | 0/1 [00:00<?, ?ba/s]",
      "application/vnd.jupyter.widget-view+json": {
       "version_major": 2,
       "version_minor": 0,
       "model_id": "1d9025654ca745dcbc923dac9fc70bc8"
      }
     },
     "metadata": {},
     "output_type": "display_data"
    },
    {
     "data": {
      "text/plain": "  0%|          | 0/1 [00:00<?, ?ba/s]",
      "application/vnd.jupyter.widget-view+json": {
       "version_major": 2,
       "version_minor": 0,
       "model_id": "3447269a2c1d44999d1ab65789932629"
      }
     },
     "metadata": {},
     "output_type": "display_data"
    },
    {
     "data": {
      "text/plain": "  0%|          | 0/1 [00:00<?, ?ba/s]",
      "application/vnd.jupyter.widget-view+json": {
       "version_major": 2,
       "version_minor": 0,
       "model_id": "deb290e0ab1144fb86ddcd1288cc1454"
      }
     },
     "metadata": {},
     "output_type": "display_data"
    }
   ],
   "source": [
    "features = make_features(tasks, batched=True, load_from_cache_file=False)\n",
    "train, validation = unpack_splits(features, \"train\", \"validation\")"
   ],
   "metadata": {
    "collapsed": false,
    "pycharm": {
     "name": "#%%\n"
    }
   }
  },
  {
   "cell_type": "code",
   "execution_count": null,
   "outputs": [],
   "source": [
    "model = MultitaskModel.create(base_model_name, tasks)\n",
    "trainer = MultitaskTrainer(\n",
    "    model=model,\n",
    "    args=transformers.TrainingArguments(\n",
    "        output_dir=\"test\",\n",
    "        overwrite_output_dir=True,\n",
    "        learning_rate=1e-5,\n",
    "        logging_steps=100,\n",
    "        eval_steps=500,\n",
    "        do_train=True,\n",
    "        num_train_epochs=1,\n",
    "        per_device_train_batch_size=12,\n",
    "        per_device_eval_batch_size=128,\n",
    "        save_steps=5000,\n",
    "    ),\n",
    "    data_collator=NLPDataCollator(),\n",
    "    train_dataset=train,\n",
    "    eval_dataset=validation\n",
    ")\n",
    "trainer.train()"
   ],
   "metadata": {
    "collapsed": false,
    "pycharm": {
     "name": "#%%\n"
    }
   }
  },
  {
   "cell_type": "code",
   "execution_count": null,
   "outputs": [],
   "source": [],
   "metadata": {
    "collapsed": false,
    "pycharm": {
     "name": "#%%\n"
    }
   }
  }
 ],
 "metadata": {
  "kernelspec": {
   "display_name": "Python 3",
   "language": "python",
   "name": "python3"
  },
  "language_info": {
   "codemirror_mode": {
    "name": "ipython",
    "version": 2
   },
   "file_extension": ".py",
   "mimetype": "text/x-python",
   "name": "python",
   "nbconvert_exporter": "python",
   "pygments_lexer": "ipython2",
   "version": "2.7.6"
  }
 },
 "nbformat": 4,
 "nbformat_minor": 0
}