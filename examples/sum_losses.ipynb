{
 "cells": [
  {
   "cell_type": "code",
   "execution_count": null,
   "metadata": {
    "collapsed": true
   },
   "outputs": [],
   "source": [
    "import torch\n",
    "from datasets import load_dataset\n",
    "from tqdm.auto import tqdm\n",
    "from transformers import AdamW, get_scheduler\n",
    "\n",
    "from src.classification import SequenceClassificationTask\n",
    "from src.dataloaders import MultitaskMetabatchSampler\n",
    "from src.models import MultitaskModel\n",
    "from src.preprocessing import Preprocessor, NLIPreprocess\n",
    "from src.ru import preprocess_danetqa, preprocess_parus\n",
    "from src.tasks import Tasks\n",
    "from src.tokenizers import TokenizerConfig"
   ]
  },
  {
   "cell_type": "code",
   "execution_count": null,
   "outputs": [],
   "source": [
    "rsg = \"russian_super_glue\"\n",
    "cfg = TokenizerConfig(max_length=512)\n",
    "encoder_path = \"DeepPavlov/rubert-base-cased\""
   ],
   "metadata": {
    "collapsed": false,
    "pycharm": {
     "name": "#%%\n"
    }
   }
  },
  {
   "cell_type": "code",
   "execution_count": null,
   "outputs": [],
   "source": [
    "tasks = Tasks([\n",
    "    SequenceClassificationTask(\n",
    "        name=\"danetqa\",\n",
    "        dataset_dict=load_dataset(rsg, \"danetqa\"),\n",
    "        preprocessor=Preprocessor([preprocess_danetqa]),\n",
    "        tokenizer_config=cfg,\n",
    "    ),\n",
    "    SequenceClassificationTask(\n",
    "        name=\"parus\",\n",
    "        dataset_dict=load_dataset(rsg, \"parus\"),\n",
    "        preprocessor=Preprocessor([preprocess_parus]),\n",
    "        tokenizer_config=cfg,\n",
    "    ),\n",
    "    SequenceClassificationTask(\n",
    "        name=\"terra\",\n",
    "        dataset_dict=load_dataset(rsg, \"terra\"),\n",
    "        preprocessor=Preprocessor([NLIPreprocess()]),\n",
    "        tokenizer_config=cfg,\n",
    "    ),\n",
    "], encoder_path)"
   ],
   "metadata": {
    "collapsed": false,
    "pycharm": {
     "name": "#%%\n"
    }
   }
  },
  {
   "cell_type": "code",
   "execution_count": null,
   "outputs": [],
   "source": [
    "train_sampler = MultitaskMetabatchSampler(tasks.data, \"train\", batch_size=12)"
   ],
   "metadata": {
    "collapsed": false,
    "pycharm": {
     "name": "#%%\n"
    }
   }
  },
  {
   "cell_type": "code",
   "execution_count": null,
   "outputs": [],
   "source": [
    "model = MultitaskModel(encoder_path, tasks.heads)"
   ],
   "metadata": {
    "collapsed": false,
    "pycharm": {
     "name": "#%%\n"
    }
   }
  },
  {
   "cell_type": "code",
   "execution_count": null,
   "outputs": [],
   "source": [
    "optimizer = AdamW(model.parameters(), lr=5e-5)\n",
    "num_epochs = 1\n",
    "num_training_steps = num_epochs * len(train_sampler)\n",
    "lr_scheduler = get_scheduler(\"linear\", optimizer=optimizer, num_warmup_steps=0, num_training_steps=num_training_steps)"
   ],
   "metadata": {
    "collapsed": false,
    "pycharm": {
     "name": "#%%\n"
    }
   }
  },
  {
   "cell_type": "code",
   "execution_count": null,
   "outputs": [],
   "source": [
    "device = torch.device(\"cuda\") if torch.cuda.is_available() else torch.device(\"cpu\")\n",
    "model.to(device)\n",
    "model.train()"
   ],
   "metadata": {
    "collapsed": false,
    "pycharm": {
     "name": "#%%\n"
    }
   }
  },
  {
   "cell_type": "code",
   "execution_count": null,
   "outputs": [],
   "source": [
    "progress_bar = tqdm(range(num_training_steps))\n",
    "for epoch_num in range(num_epochs):\n",
    "    for meta_batch in train_sampler:\n",
    "        loss = 0\n",
    "        for name, data in meta_batch.items():\n",
    "            data.to(device)\n",
    "            outputs = model.forward(name, only_head = {\"labels\",}, **data)\n",
    "            loss += outputs.loss\n",
    "        print(f\"Training loss: {loss}\")\n",
    "        loss.backward()\n",
    "\n",
    "        optimizer.step()\n",
    "        lr_scheduler.step()\n",
    "        optimizer.zero_grad()\n",
    "        progress_bar.update(1)"
   ],
   "metadata": {
    "collapsed": false,
    "pycharm": {
     "name": "#%%\n"
    }
   }
  },
  {
   "cell_type": "code",
   "execution_count": null,
   "outputs": [],
   "source": [],
   "metadata": {
    "collapsed": false,
    "pycharm": {
     "name": "#%%\n"
    }
   }
  }
 ],
 "metadata": {
  "kernelspec": {
   "display_name": "Python 3",
   "language": "python",
   "name": "python3"
  },
  "language_info": {
   "codemirror_mode": {
    "name": "ipython",
    "version": 2
   },
   "file_extension": ".py",
   "mimetype": "text/x-python",
   "name": "python",
   "nbconvert_exporter": "python",
   "pygments_lexer": "ipython2",
   "version": "2.7.6"
  }
 },
 "nbformat": 4,
 "nbformat_minor": 0
}